{
 "cells": [
  {
   "cell_type": "code",
   "execution_count": 1,
   "metadata": {},
   "outputs": [
    {
     "name": "stdout",
     "output_type": "stream",
     "text": [
      "Collecting git+https://github.com/pytube/pytube\n",
      "  Cloning https://github.com/pytube/pytube to /private/var/folders/7w/z19r1byj5ps04g_g2h9j8jpw0000gq/T/pip-req-build-mabfi6n3\n",
      "  Running command git clone --filter=blob:none --quiet https://github.com/pytube/pytube /private/var/folders/7w/z19r1byj5ps04g_g2h9j8jpw0000gq/T/pip-req-build-mabfi6n3\n",
      "  Resolved https://github.com/pytube/pytube to commit a32fff39058a6f7e5e59ecd06a7467b71197ce35\n",
      "  Installing build dependencies ... \u001b[?25ldone\n",
      "\u001b[?25h  Getting requirements to build wheel ... \u001b[?25ldone\n",
      "\u001b[?25h  Preparing metadata (pyproject.toml) ... \u001b[?25ldone\n",
      "\u001b[?25hBuilding wheels for collected packages: pytube\n",
      "  Building wheel for pytube (pyproject.toml) ... \u001b[?25ldone\n",
      "\u001b[?25h  Created wheel for pytube: filename=pytube-15.0.0-py3-none-any.whl size=57579 sha256=21a67c377827086e3159c53e75c982ac283095c732ac5a80d342383a26764669\n",
      "  Stored in directory: /private/var/folders/7w/z19r1byj5ps04g_g2h9j8jpw0000gq/T/pip-ephem-wheel-cache-k3yyte6y/wheels/b0/a9/7d/d3579227a695fdd15288c35657b3332ef0d71430ca7f685769\n",
      "Successfully built pytube\n",
      "Installing collected packages: pytube\n",
      "Successfully installed pytube-15.0.0\n"
     ]
    }
   ],
   "source": [
    "!pip install git+https://github.com/pytube/pytube"
   ]
  },
  {
   "cell_type": "code",
   "execution_count": 3,
   "metadata": {},
   "outputs": [],
   "source": [
    "video_url= 'https://youtube.com/shorts/7xn0eIb6dhw?feature=share'"
   ]
  },
  {
   "cell_type": "code",
   "execution_count": 4,
   "metadata": {},
   "outputs": [
    {
     "data": {
      "text/plain": [
       "'/Users/macpro15/Projects/whisperAPI/¿Cómo deben ser las reuniones de trabajo ⌚ 100 EFECTIVAS.mp4'"
      ]
     },
     "execution_count": 4,
     "metadata": {},
     "output_type": "execute_result"
    }
   ],
   "source": [
    "from pytube import YouTube\n",
    "YouTube(video_url).streams.first().download()\n",
    "yt = YouTube(video_url)\n",
    "yt.streams.filter(progressive=True, file_extension='mp4').order_by('resolution').desc().first().download()"
   ]
  }
 ],
 "metadata": {
  "kernelspec": {
   "display_name": ".venv whisperAPI",
   "language": "python",
   "name": "python3"
  },
  "language_info": {
   "codemirror_mode": {
    "name": "ipython",
    "version": 3
   },
   "file_extension": ".py",
   "mimetype": "text/x-python",
   "name": "python",
   "nbconvert_exporter": "python",
   "pygments_lexer": "ipython3",
   "version": "3.10.12"
  },
  "orig_nbformat": 4
 },
 "nbformat": 4,
 "nbformat_minor": 2
}
